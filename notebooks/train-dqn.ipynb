{
 "cells": [
  {
   "cell_type": "code",
   "execution_count": 2,
   "id": "2eb3fdac",
   "metadata": {},
   "outputs": [],
   "source": [
    "import sys\n",
    "import os\n",
    "import logging\n",
    "\n",
    "# Method 1: Disable all logging\n",
    "logging.disable(logging.CRITICAL)\n",
    "\n",
    "# Get the absolute path to the project root directory\n",
    "root_path = os.path.abspath(os.path.join(os.getcwd(), \"..\"))\n",
    "\n",
    "# Add the root path to Python's module search path\n",
    "sys.path.append(root_path)"
   ]
  },
  {
   "cell_type": "code",
   "execution_count": null,
   "id": "40f03a9f",
   "metadata": {},
   "outputs": [
    {
     "name": "stderr",
     "output_type": "stream",
     "text": [
      "/home/tk/.virtualenvs/gnn-agent-new/lib/python3.11/site-packages/tqdm/auto.py:21: TqdmWarning: IProgress not found. Please update jupyter and ipywidgets. See https://ipywidgets.readthedocs.io/en/stable/user_install.html\n",
      "  from .autonotebook import tqdm as notebook_tqdm\n",
      "/home/tk/.virtualenvs/gnn-agent-new/lib/python3.11/site-packages/gymnasium/utils/passive_env_checker.py:168: DeprecationWarning: \u001b[33mWARN: Current gymnasium version requires that `Env.reset` can be passed a `seed` instead of using `Env.seed` for resetting the environment random number generator.\u001b[0m\n",
      "  logger.deprecation(\n",
      "/home/tk/.virtualenvs/gnn-agent-new/lib/python3.11/site-packages/gymnasium/utils/passive_env_checker.py:181: DeprecationWarning: \u001b[33mWARN: Current gymnasium version requires that `Env.reset` can be passed `options` to allow the environment initialisation to be passed additional information.\u001b[0m\n",
      "  logger.deprecation(\n",
      "/home/tk/.virtualenvs/gnn-agent-new/lib/python3.11/site-packages/gymnasium/utils/passive_env_checker.py:127: UserWarning: \u001b[33mWARN: The obs returned by the `reset()` method should be an int or np.int64, actual type: <class 'dict'>\u001b[0m\n",
      "  logger.warn(f\"{pre} should be an int or np.int64, actual type: {type(obs)}\")\n",
      "/home/tk/.virtualenvs/gnn-agent-new/lib/python3.11/site-packages/gymnasium/utils/passive_env_checker.py:159: UserWarning: \u001b[33mWARN: The obs returned by the `reset()` method is not within the observation space.\u001b[0m\n",
      "  logger.warn(f\"{pre} is not within the observation space.\")\n",
      "Exception ignored in: <bound method IPythonKernel._clean_thread_parent_frames of <ipykernel.ipkernel.IPythonKernel object at 0x7ca9ba4cc0d0>>\n",
      "Traceback (most recent call last):\n",
      "  File \"/home/tk/.virtualenvs/gnn-agent-new/lib/python3.11/site-packages/ipykernel/ipkernel.py\", line 775, in _clean_thread_parent_frames\n",
      "KeyboardInterrupt: \n",
      "/home/tk/.virtualenvs/gnn-agent-new/lib/python3.11/site-packages/gymnasium/utils/passive_env_checker.py:127: UserWarning: \u001b[33mWARN: The obs returned by the `step()` method should be an int or np.int64, actual type: <class 'dict'>\u001b[0m\n",
      "  logger.warn(f\"{pre} should be an int or np.int64, actual type: {type(obs)}\")\n",
      "/home/tk/.virtualenvs/gnn-agent-new/lib/python3.11/site-packages/gymnasium/utils/passive_env_checker.py:159: UserWarning: \u001b[33mWARN: The obs returned by the `step()` method is not within the observation space.\u001b[0m\n",
      "  logger.warn(f\"{pre} is not within the observation space.\")\n",
      "/home/tk/.virtualenvs/gnn-agent-new/lib/python3.11/site-packages/gymnasium/utils/passive_env_checker.py:246: UserWarning: \u001b[33mWARN: The reward returned by `step()` must be a float, int, np.integer or np.floating, actual type: <class 'list'>\u001b[0m\n",
      "  logger.warn(\n"
     ]
    }
   ],
   "source": [
    "from agent import LongTermAgent\n",
    "\n",
    "agent = LongTermAgent(\n",
    "    env_config={\n",
    "        \"question_prob\": 1.0,\n",
    "        \"seed\": 42,\n",
    "        \"terminates_at\": 9,\n",
    "        \"randomize_observations\": \"all\",\n",
    "        \"room_size\": \"xl-different-prob\",\n",
    "        \"rewards\": {\"correct\": 1, \"wrong\": 0, \"partial\": 0},\n",
    "        \"make_everything_static\": False,\n",
    "        \"num_total_questions\": 1000,\n",
    "        \"question_interval\": 1,\n",
    "        \"include_walls_in_observations\": True,\n",
    "        \"deterministic_objects\": False,\n",
    "    }\n",
    ")\n",
    "agent._run_test_episode()"
   ]
  },
  {
   "cell_type": "code",
   "execution_count": null,
   "id": "e3677320",
   "metadata": {},
   "outputs": [
    {
     "name": "stderr",
     "output_type": "stream",
     "text": [
      "/home/tk/.virtualenvs/gnn-agent-new/lib/python3.11/site-packages/tqdm/auto.py:21: TqdmWarning: IProgress not found. Please update jupyter and ipywidgets. See https://ipywidgets.readthedocs.io/en/stable/user_install.html\n",
      "  from .autonotebook import tqdm as notebook_tqdm\n"
     ]
    }
   ],
   "source": [
    "from agent import DQNAgent\n",
    "\n",
    "agent = DQNAgent(default_root_dir=\"training_results-dqn/\")\n"
   ]
  },
  {
   "cell_type": "code",
   "execution_count": 4,
   "id": "ada792c4",
   "metadata": {},
   "outputs": [
    {
     "name": "stderr",
     "output_type": "stream",
     "text": [
      "/home/tk/.virtualenvs/gnn-agent-new/lib/python3.11/site-packages/gymnasium/utils/passive_env_checker.py:168: DeprecationWarning: \u001b[33mWARN: Current gymnasium version requires that `Env.reset` can be passed a `seed` instead of using `Env.seed` for resetting the environment random number generator.\u001b[0m\n",
      "  logger.deprecation(\n",
      "/home/tk/.virtualenvs/gnn-agent-new/lib/python3.11/site-packages/gymnasium/utils/passive_env_checker.py:181: DeprecationWarning: \u001b[33mWARN: Current gymnasium version requires that `Env.reset` can be passed `options` to allow the environment initialisation to be passed additional information.\u001b[0m\n",
      "  logger.deprecation(\n",
      "/home/tk/.virtualenvs/gnn-agent-new/lib/python3.11/site-packages/gymnasium/utils/passive_env_checker.py:127: UserWarning: \u001b[33mWARN: The obs returned by the `reset()` method should be an int or np.int64, actual type: <class 'dict'>\u001b[0m\n",
      "  logger.warn(f\"{pre} should be an int or np.int64, actual type: {type(obs)}\")\n",
      "/home/tk/.virtualenvs/gnn-agent-new/lib/python3.11/site-packages/gymnasium/utils/passive_env_checker.py:159: UserWarning: \u001b[33mWARN: The obs returned by the `reset()` method is not within the observation space.\u001b[0m\n",
      "  logger.warn(f\"{pre} is not within the observation space.\")\n"
     ]
    }
   ],
   "source": [
    "agent.reset()"
   ]
  },
  {
   "cell_type": "code",
   "execution_count": 5,
   "id": "3d40f769",
   "metadata": {},
   "outputs": [
    {
     "data": {
      "text/plain": [
       "[['agent',\n",
       "  'at_location',\n",
       "  'room_000',\n",
       "  {'memoryID': 0, 'current_time': '2025-01-01T00:00:00'}],\n",
       " ['room_000',\n",
       "  'east',\n",
       "  'room_001',\n",
       "  {'memoryID': 1, 'current_time': '2025-01-01T00:00:00'}],\n",
       " ['dep_001',\n",
       "  'at_location',\n",
       "  'room_000',\n",
       "  {'memoryID': 2, 'current_time': '2025-01-01T00:00:00'}],\n",
       " ['room_000',\n",
       "  'west',\n",
       "  'wall',\n",
       "  {'memoryID': 3, 'current_time': '2025-01-01T00:00:00'}],\n",
       " ['dep_007',\n",
       "  'at_location',\n",
       "  'room_000',\n",
       "  {'memoryID': 4, 'current_time': '2025-01-01T00:00:00'}],\n",
       " ['room_000',\n",
       "  'north',\n",
       "  'wall',\n",
       "  {'memoryID': 5, 'current_time': '2025-01-01T00:00:00'}],\n",
       " ['room_000',\n",
       "  'south',\n",
       "  'room_004',\n",
       "  {'memoryID': 6, 'current_time': '2025-01-01T00:00:00'}]]"
      ]
     },
     "execution_count": 5,
     "metadata": {},
     "output_type": "execute_result"
    }
   ],
   "source": [
    "agent.humemai.to_list()"
   ]
  },
  {
   "cell_type": "code",
   "execution_count": 7,
   "id": "f3837abf",
   "metadata": {},
   "outputs": [
    {
     "data": {
      "text/plain": [
       "[]"
      ]
     },
     "execution_count": 7,
     "metadata": {},
     "output_type": "execute_result"
    }
   ],
   "source": [
    "agent.humemai.to_list()"
   ]
  },
  {
   "cell_type": "code",
   "execution_count": 8,
   "id": "56459f14",
   "metadata": {},
   "outputs": [
    {
     "ename": "KeyError",
     "evalue": "'relations'",
     "output_type": "error",
     "traceback": [
      "\u001b[31m---------------------------------------------------------------------------\u001b[39m",
      "\u001b[31mKeyError\u001b[39m                                  Traceback (most recent call last)",
      "\u001b[36mCell\u001b[39m\u001b[36m \u001b[39m\u001b[32mIn[8]\u001b[39m\u001b[32m, line 1\u001b[39m\n\u001b[32m----> \u001b[39m\u001b[32m1\u001b[39m \u001b[43magent\u001b[49m\u001b[43m.\u001b[49m\u001b[43mdqn_params\u001b[49m\u001b[43m[\u001b[49m\u001b[33;43m\"\u001b[39;49m\u001b[33;43mrelations\u001b[39;49m\u001b[33;43m\"\u001b[39;49m\u001b[43m]\u001b[49m\n",
      "\u001b[31mKeyError\u001b[39m: 'relations'"
     ]
    }
   ],
   "source": [
    "agent.dqn_params[\"relations\"]"
   ]
  },
  {
   "cell_type": "code",
   "execution_count": 6,
   "id": "e199dd68",
   "metadata": {},
   "outputs": [
    {
     "name": "stdout",
     "output_type": "stream",
     "text": [
      "['sta_000', 'sta_001', 'sta_002', 'sta_003', 'sta_004', 'sta_005', 'sta_006', 'sta_007', 'ind_000', 'ind_001', 'ind_002', 'ind_003', 'ind_004', 'ind_005', 'ind_006', 'ind_007', 'dep_000', 'dep_001', 'dep_002', 'dep_003', 'dep_004', 'dep_005', 'dep_006', 'dep_007', 'agent', 'room_000', 'room_001', 'room_002', 'room_003', 'room_004', 'room_005', 'room_006', 'room_007', 'room_008', 'room_009', 'room_010', 'room_011', 'room_012', 'room_013', 'room_014', 'room_015', 'room_016', 'room_017', 'room_018', 'room_019', 'room_020', 'room_021', 'room_022', 'room_023', 'room_024', 'room_025', 'room_026', 'room_027', 'room_028', 'room_029', 'room_030', 'room_031', 'wall', '0', '1', '2', '3', '4', '5', '6', '7', '8', '9', '10', '11', '12', '13', '14', '15', '16', '17', '18', '19', '20', '21', '22', '23', '24', '25', '26', '27', '28', '29', '30', '31', '32', '33', '34', '35', '36', '37', '38', '39', '40', '41', '42', '43', '44', '45', '46', '47', '48', '49', '50', '51', '52', '53', '54', '55', '56', '57', '58', '59', '60', '61', '62', '63', '64', '65', '66', '67', '68', '69', '70', '71', '72', '73', '74', '75', '76', '77', '78', '79', '80', '81', '82', '83', '84', '85', '86', '87', '88', '89', '90', '91', '92', '93', '94', '95', '96', '97', '98', '99', '100', '101', '102', '103', '104', '105', '106', '107', '108', '109', '110', '111', '112', '113', '114', '115', '116', '117', '118', '119', '120', '121', '122', '123', '124', '125', '126', '127', '128', '129', '130', '131', '132', '133', '134', '135', '136', '137', '138', '139', '140', '141', '142', '143', '144', '145', '146', '147', '148', '149', '150', '151', '152', '153', '154', '155', '156', '157', '158', '159', '160', '161', '162', '163', '164', '165', '166', '167', '168', '169', '170', '171', '172', '173', '174', '175', '176', '177', '178', '179', '180', '181', '182', '183', '184', '185', '186', '187', '188', '189', '190', '191', '192', '193', '194', '195', '196', '197', '198', '199', '200', '201', '202', '203', '204', '205', '206', '207', '208', '209', '210', '211', '212', '213', '214', '215', '216', '217', '218', '219', '220', '221', '222', '223', '224', '225', '226', '227', '228', '229', '230', '231', '232', '233', '234', '235', '236', '237', '238', '239', '240', '241', '242', '243', '244', '245', '246', '247', '248', '249', '250', '251', '252', '253', '254', '255', '256', '257', '258', '259', '260', '261', '262', '263', '264', '265', '266', '267', '268', '269', '270', '271', '272', '273', '274', '275', '276', '277', '278', '279', '280', '281', '282', '283', '284', '285', '286', '287', '288', '289', '290', '291', '292', '293', '294', '295', '296', '297', '298', '299', '300', '301', '302', '303', '304', '305', '306', '307', '308', '309', '310', '311', '312', '313', '314', '315', '316', '317', '318', '319', '320', '321', '322', '323', '324', '325', '326', '327', '328', '329', '330', '331', '332', '333', '334', '335', '336', '337', '338', '339', '340', '341', '342', '343', '344', '345', '346', '347', '348', '349', '350', '351', '352', '353', '354', '355', '356', '357', '358', '359', '360', '361', '362', '363', '364', '365', '366', '367', '368', '369', '370', '371', '372', '373', '374', '375', '376', '377', '378', '379', '380', '381', '382', '383', '384', '385', '386', '387', '388', '389', '390', '391', '392', '393', '394', '395', '396', '397', '398', '399', '400', '401', '402', '403', '404', '405', '406', '407', '408', '409', '410', '411', '412', '413', '414', '415', '416', '417', '418', '419', '420', '421', '422', '423', '424', '425', '426', '427', '428', '429', '430', '431', '432', '433', '434', '435', '436', '437', '438', '439', '440', '441', '442', '443', '444', '445', '446', '447', '448', '449', '450', '451', '452', '453', '454', '455', '456', '457', '458', '459', '460', '461', '462', '463', '464', '465', '466', '467', '468', '469', '470', '471', '472', '473', '474', '475', '476', '477', '478', '479', '480', '481', '482', '483', '484', '485', '486', '487', '488', '489', '490', '491', '492', '493', '494', '495', '496', '497', '498', '499', '500', '501', '502', '503', '504', '505', '506', '507', '508', '509', '510', '511', '512', '513', '514', '515', '516', '517', '518', '519', '520', '521', '522', '523', '524', '525', '526', '527', '528', '529', '530', '531', '532', '533', '534', '535', '536', '537', '538', '539', '540', '541', '542', '543', '544', '545', '546', '547', '548', '549', '550', '551', '552', '553', '554', '555', '556', '557', '558', '559', '560', '561', '562', '563', '564', '565', '566', '567', '568', '569', '570', '571', '572', '573', '574', '575', '576', '577', '578', '579', '580', '581', '582', '583', '584', '585', '586', '587', '588', '589', '590', '591', '592', '593', '594', '595', '596', '597', '598', '599', '600', '601', '602', '603', '604', '605', '606', '607', '608', '609', '610', '611', '612', '613', '614', '615', '616', '617', '618', '619', '620', '621', '622', '623', '624', '625', '626', '627', '628', '629', '630', '631', '632', '633', '634', '635', '636', '637', '638', '639', '640', '641', '642', '643', '644', '645', '646', '647', '648', '649', '650', '651', '652', '653', '654', '655', '656', '657', '658', '659', '660', '661', '662', '663', '664', '665', '666', '667', '668', '669', '670', '671', '672', '673', '674', '675', '676', '677', '678', '679', '680', '681', '682', '683', '684', '685', '686', '687', '688', '689', '690', '691', '692', '693', '694', '695', '696', '697', '698', '699', '700', '701', '702', '703', '704', '705', '706', '707', '708', '709', '710', '711', '712', '713', '714', '715', '716', '717', '718', '719', '720', '721', '722', '723', '724', '725', '726', '727', '728', '729', '730', '731', '732', '733', '734', '735', '736', '737', '738', '739', '740', '741', '742', '743', '744', '745', '746', '747', '748', '749', '750', '751', '752', '753', '754', '755', '756', '757', '758', '759', '760', '761', '762', '763', '764', '765', '766', '767', '768', '769', '770', '771', '772', '773', '774', '775', '776', '777', '778', '779', '780', '781', '782', '783', '784', '785', '786', '787', '788', '789', '790', '791', '792', '793', '794', '795', '796', '797', '798', '799', '800', '801', '802', '803', '804', '805', '806', '807', '808', '809', '810', '811', '812', '813', '814', '815', '816', '817', '818', '819', '820', '821', '822', '823', '824', '825', '826', '827', '828', '829', '830', '831', '832', '833', '834', '835', '836', '837', '838', '839', '840', '841', '842', '843', '844', '845', '846', '847', '848', '849', '850', '851', '852', '853', '854', '855', '856', '857', '858', '859', '860', '861', '862', '863', '864', '865', '866', '867', '868', '869', '870', '871', '872', '873', '874', '875', '876', '877', '878', '879', '880', '881', '882', '883', '884', '885', '886', '887', '888', '889', '890', '891', '892', '893', '894', '895', '896', '897', '898', '899', '900', '901', '902', '903', '904', '905', '906', '907', '908', '909', '910', '911', '912', '913', '914', '915', '916', '917', '918', '919', '920', '921', '922', '923', '924', '925', '926', '927', '928', '929', '930', '931', '932', '933', '934', '935', '936', '937', '938', '939', '940', '941', '942', '943', '944', '945', '946', '947', '948', '949', '950', '951', '952', '953', '954', '955', '956', '957', '958', '959', '960', '961', '962', '963', '964', '965', '966', '967', '968', '969', '970', '971', '972', '973', '974', '975', '976', '977', '978', '979', '980', '981', '982', '983', '984', '985', '986', '987', '988', '989', '990', '991', '992', '993', '994', '995', '996', '997', '998', '999', '2025-01-01T00:00:00', '2025-01-02T00:00:00', '2025-01-03T00:00:00', '2025-01-04T00:00:00', '2025-01-05T00:00:00', '2025-01-06T00:00:00', '2025-01-07T00:00:00', '2025-01-08T00:00:00', '2025-01-09T00:00:00', '2025-01-10T00:00:00', '2025-01-11T00:00:00', '2025-01-12T00:00:00', '2025-01-13T00:00:00', '2025-01-14T00:00:00', '2025-01-15T00:00:00', '2025-01-16T00:00:00', '2025-01-17T00:00:00', '2025-01-18T00:00:00', '2025-01-19T00:00:00', '2025-01-20T00:00:00', '2025-01-21T00:00:00', '2025-01-22T00:00:00', '2025-01-23T00:00:00', '2025-01-24T00:00:00', '2025-01-25T00:00:00', '2025-01-26T00:00:00', '2025-01-27T00:00:00', '2025-01-28T00:00:00', '2025-01-29T00:00:00', '2025-01-30T00:00:00', '2025-01-31T00:00:00', '2025-02-01T00:00:00', '2025-02-02T00:00:00', '2025-02-03T00:00:00', '2025-02-04T00:00:00', '2025-02-05T00:00:00', '2025-02-06T00:00:00', '2025-02-07T00:00:00', '2025-02-08T00:00:00', '2025-02-09T00:00:00', '2025-02-10T00:00:00', '2025-02-11T00:00:00', '2025-02-12T00:00:00', '2025-02-13T00:00:00', '2025-02-14T00:00:00', '2025-02-15T00:00:00', '2025-02-16T00:00:00', '2025-02-17T00:00:00', '2025-02-18T00:00:00', '2025-02-19T00:00:00', '2025-02-20T00:00:00', '2025-02-21T00:00:00', '2025-02-22T00:00:00', '2025-02-23T00:00:00', '2025-02-24T00:00:00', '2025-02-25T00:00:00', '2025-02-26T00:00:00', '2025-02-27T00:00:00', '2025-02-28T00:00:00', '2025-03-01T00:00:00', '2025-03-02T00:00:00', '2025-03-03T00:00:00', '2025-03-04T00:00:00', '2025-03-05T00:00:00', '2025-03-06T00:00:00', '2025-03-07T00:00:00', '2025-03-08T00:00:00', '2025-03-09T00:00:00', '2025-03-10T00:00:00', '2025-03-11T00:00:00', '2025-03-12T00:00:00', '2025-03-13T00:00:00', '2025-03-14T00:00:00', '2025-03-15T00:00:00', '2025-03-16T00:00:00', '2025-03-17T00:00:00', '2025-03-18T00:00:00', '2025-03-19T00:00:00', '2025-03-20T00:00:00', '2025-03-21T00:00:00', '2025-03-22T00:00:00', '2025-03-23T00:00:00', '2025-03-24T00:00:00', '2025-03-25T00:00:00', '2025-03-26T00:00:00', '2025-03-27T00:00:00', '2025-03-28T00:00:00', '2025-03-29T00:00:00', '2025-03-30T00:00:00', '2025-03-31T00:00:00', '2025-04-01T00:00:00', '2025-04-02T00:00:00', '2025-04-03T00:00:00', '2025-04-04T00:00:00', '2025-04-05T00:00:00', '2025-04-06T00:00:00', '2025-04-07T00:00:00', '2025-04-08T00:00:00', '2025-04-09T00:00:00', '2025-04-10T00:00:00', '2025-04-11T00:00:00']\n"
     ]
    }
   ],
   "source": [
    "print(agent.dqn_params[\"entities\"])"
   ]
  },
  {
   "cell_type": "code",
   "execution_count": 4,
   "id": "79a76dd3",
   "metadata": {},
   "outputs": [
    {
     "data": {
      "text/plain": [
       "datetime.datetime(2025, 1, 1, 0, 0)"
      ]
     },
     "execution_count": 4,
     "metadata": {},
     "output_type": "execute_result"
    }
   ],
   "source": [
    "agent.base_date"
   ]
  },
  {
   "cell_type": "code",
   "execution_count": null,
   "id": "78458259",
   "metadata": {},
   "outputs": [],
   "source": [
    "agent._run_test_episode()"
   ]
  },
  {
   "cell_type": "code",
   "execution_count": 8,
   "id": "81c2f253",
   "metadata": {},
   "outputs": [
    {
     "data": {
      "text/plain": [
       "'2025-01-01 00:00:00'"
      ]
     },
     "execution_count": 8,
     "metadata": {},
     "output_type": "execute_result"
    }
   ],
   "source": [
    "str(agent.base_date)"
   ]
  }
 ],
 "metadata": {
  "kernelspec": {
   "display_name": "gnn-agent-new",
   "language": "python",
   "name": "python3"
  },
  "language_info": {
   "codemirror_mode": {
    "name": "ipython",
    "version": 3
   },
   "file_extension": ".py",
   "mimetype": "text/x-python",
   "name": "python",
   "nbconvert_exporter": "python",
   "pygments_lexer": "ipython3",
   "version": "3.11.12"
  }
 },
 "nbformat": 4,
 "nbformat_minor": 5
}
