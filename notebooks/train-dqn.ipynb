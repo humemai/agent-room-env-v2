{
 "cells": [
  {
   "cell_type": "code",
   "execution_count": null,
   "id": "2eb3fdac",
   "metadata": {},
   "outputs": [],
   "source": [
    "import sys\n",
    "import os\n",
    "import logging\n",
    "\n",
    "# Method 1: Disable all logging\n",
    "logging.disable(logging.CRITICAL)\n",
    "\n",
    "# Get the absolute path to the project root directory\n",
    "root_path = os.path.abspath(os.path.join(os.getcwd(), \"..\"))\n",
    "\n",
    "# Add the root path to Python's module search path\n",
    "sys.path.append(root_path)"
   ]
  },
  {
   "cell_type": "code",
   "execution_count": null,
   "id": "40f03a9f",
   "metadata": {},
   "outputs": [],
   "source": [
    "from agent import LongTermAgent\n",
    "\n",
    "for seed in range(5):\n",
    "    for max_long_term_memory_size in [32, 128, 256, 512, 1024]:\n",
    "        agent = LongTermAgent(\n",
    "            env_config={\n",
    "                \"question_prob\": 1.0,\n",
    "                \"seed\": seed,\n",
    "                \"terminates_at\": 99,\n",
    "                \"randomize_observations\": \"all\",\n",
    "                \"room_size\": \"xl-different-prob\",\n",
    "                \"rewards\": {\"correct\": 1, \"wrong\": 0, \"partial\": 0},\n",
    "                \"make_everything_static\": False,\n",
    "                \"num_total_questions\": 1000,\n",
    "                \"question_interval\": 1,\n",
    "                \"include_walls_in_observations\": True,\n",
    "                \"deterministic_objects\": False,\n",
    "            },\n",
    "            qa_policy= \"most_frequently_used\",\n",
    "            explore_policy= \"bfs\",\n",
    "            mm_forget_policy= \"lfu\",\n",
    "            max_long_term_memory_size=max_long_term_memory_size,\n",
    "            num_samples_for_results=1,\n",
    "\n",
    "        )\n",
    "        print(agent.test())\n",
    "        print(\n",
    "            max(\n",
    "                [\n",
    "                    foo[-1][\"num_recalled\"]\n",
    "                    for foo in agent.humemai.to_list()\n",
    "                    if \"num_recalled\" in foo[-1]\n",
    "                ]\n",
    "            )\n",
    "    )"
   ]
  },
  {
   "cell_type": "code",
   "execution_count": null,
   "id": "e3677320",
   "metadata": {},
   "outputs": [],
   "source": [
    "from agent import DQNAgent\n",
    "\n",
    "agent = DQNAgent(\n",
    "    default_root_dir=\"training_results-dqn/\", pretrain_semantic=False\n",
    ")"
   ]
  },
  {
   "cell_type": "code",
   "execution_count": null,
   "id": "aa4ad156",
   "metadata": {},
   "outputs": [],
   "source": [
    "agent.humemai.get_long_term_memory_count()"
   ]
  },
  {
   "cell_type": "code",
   "execution_count": null,
   "id": "ada792c4",
   "metadata": {},
   "outputs": [],
   "source": [
    "agent.reset()"
   ]
  },
  {
   "cell_type": "code",
   "execution_count": null,
   "id": "3d40f769",
   "metadata": {},
   "outputs": [],
   "source": [
    "agent.humemai.to_list()"
   ]
  },
  {
   "cell_type": "code",
   "execution_count": null,
   "id": "f3837abf",
   "metadata": {},
   "outputs": [],
   "source": [
    "agent.humemai.to_list()"
   ]
  },
  {
   "cell_type": "code",
   "execution_count": null,
   "id": "56459f14",
   "metadata": {},
   "outputs": [],
   "source": [
    "agent.dqn_params[\"relations\"]"
   ]
  },
  {
   "cell_type": "code",
   "execution_count": null,
   "id": "e199dd68",
   "metadata": {},
   "outputs": [],
   "source": [
    "print(agent.dqn_params[\"entities\"])"
   ]
  },
  {
   "cell_type": "code",
   "execution_count": null,
   "id": "79a76dd3",
   "metadata": {},
   "outputs": [],
   "source": [
    "agent.base_date"
   ]
  },
  {
   "cell_type": "code",
   "execution_count": null,
   "id": "78458259",
   "metadata": {},
   "outputs": [],
   "source": [
    "agent._run_test_episode()"
   ]
  },
  {
   "cell_type": "code",
   "execution_count": null,
   "id": "81c2f253",
   "metadata": {},
   "outputs": [],
   "source": [
    "str(agent.base_date)"
   ]
  }
 ],
 "metadata": {
  "kernelspec": {
   "display_name": "gnn-agent-new",
   "language": "python",
   "name": "python3"
  },
  "language_info": {
   "codemirror_mode": {
    "name": "ipython",
    "version": 3
   },
   "file_extension": ".py",
   "mimetype": "text/x-python",
   "name": "python",
   "nbconvert_exporter": "python",
   "pygments_lexer": "ipython3",
   "version": "3.11.12"
  }
 },
 "nbformat": 4,
 "nbformat_minor": 5
}
