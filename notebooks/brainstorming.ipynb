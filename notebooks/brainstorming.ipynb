{
 "cells": [
  {
   "cell_type": "code",
   "execution_count": null,
   "metadata": {},
   "outputs": [],
   "source": [
    "import sys\n",
    "import os\n",
    "import numpy as np\n",
    "\n",
    "# Get the absolute path to the project root directory\n",
    "root_path = os.path.abspath(os.path.join(os.getcwd(), \"..\"))\n",
    "\n",
    "# Add the project root directory to the Python path\n",
    "if root_path not in sys.path:\n",
    "    sys.path.insert(0, root_path)\n",
    "\n",
    "import logging\n",
    "from agent import LongTermAgent, DQNAgent\n",
    "\n",
    "# Disable logging\n",
    "logging.getLogger().setLevel(logging.CRITICAL)\n",
    "\n",
    "\n",
    "dqn_agent = DQNAgent(\n",
    "    # forget_policy=\"rl\",\n",
    "    remember_policy=\"rl\",\n",
    ")\n",
    "agent = LongTermAgent(\n",
    "    env_config={\n",
    "        \"question_prob\": 1.0,\n",
    "        \"seed\": 0,\n",
    "        \"terminates_at\": 9,\n",
    "        \"randomize_observations\": \"all\",\n",
    "        \"room_size\": \"xl-different-prob\",\n",
    "        \"rewards\": {\"correct\": 1, \"wrong\": 0, \"partial\": 0},\n",
    "        \"make_everything_static\": False,\n",
    "        \"num_total_questions\": 1000,\n",
    "        \"question_interval\": 1,\n",
    "        \"include_walls_in_observations\": True,\n",
    "        \"deterministic_objects\": False,\n",
    "    },\n",
    "    qa_policy=\"most_recently_added\",\n",
    "    explore_policy=\"dijkstra\",\n",
    "    forget_policy=\"lru\",\n",
    "    max_long_term_memory_size=32,\n",
    "    num_samples_for_results=1,\n",
    "    default_root_dir=\"./foo/\",\n",
    "    save_results=False,\n",
    ")\n",
    "agent.test()"
   ]
  },
  {
   "cell_type": "code",
   "execution_count": null,
   "metadata": {},
   "outputs": [],
   "source": [
    "data =np.array([agent.humemai.to_list()])\n",
    "data.shape"
   ]
  },
  {
   "cell_type": "code",
   "execution_count": null,
   "metadata": {},
   "outputs": [],
   "source": [
    "data = np.array(\n",
    "    [\n",
    "        agent.humemai.to_list()[-2:],\n",
    "        agent.humemai.to_list()[-3:],\n",
    "        agent.humemai.to_list()[-30:],\n",
    "    ],\n",
    "    dtype=object,\n",
    ")\n",
    "data.shape"
   ]
  },
  {
   "cell_type": "code",
   "execution_count": null,
   "metadata": {},
   "outputs": [],
   "source": [
    "dqn_agent.dqn(data)[\"remember\"]"
   ]
  },
  {
   "cell_type": "code",
   "execution_count": null,
   "metadata": {},
   "outputs": [],
   "source": [
    "agent.humemai.get_raw_triple_count(), agent.humemai.get_main_triple_count(), agent.humemai.get_memory_count()"
   ]
  },
  {
   "cell_type": "code",
   "execution_count": null,
   "metadata": {},
   "outputs": [],
   "source": [
    "agent.humemai.get_short_term_memory_count(), agent.humemai.get_long_term_memory_count(), agent.humemai.get_main_triple_count(), agent.humemai.get_raw_triple_count()"
   ]
  },
  {
   "cell_type": "code",
   "execution_count": null,
   "metadata": {},
   "outputs": [],
   "source": [
    "agent.humemai.print_raw_triples()"
   ]
  },
  {
   "cell_type": "code",
   "execution_count": null,
   "metadata": {},
   "outputs": [],
   "source": [
    "agent.humemai.print_main_triples()"
   ]
  },
  {
   "cell_type": "code",
   "execution_count": null,
   "metadata": {},
   "outputs": [],
   "source": [
    "agent.humemai.print_memories() "
   ]
  },
  {
   "cell_type": "code",
   "execution_count": null,
   "metadata": {},
   "outputs": [],
   "source": [
    "agent.humemai.to_list()"
   ]
  }
 ],
 "metadata": {
  "kernelspec": {
   "display_name": "gnn-agent-new",
   "language": "python",
   "name": "python3"
  },
  "language_info": {
   "codemirror_mode": {
    "name": "ipython",
    "version": 3
   },
   "file_extension": ".py",
   "mimetype": "text/x-python",
   "name": "python",
   "nbconvert_exporter": "python",
   "pygments_lexer": "ipython3",
   "version": "3.11.13"
  }
 },
 "nbformat": 4,
 "nbformat_minor": 2
}
