{
 "cells": [
  {
   "cell_type": "code",
   "execution_count": 1,
   "metadata": {},
   "outputs": [],
   "source": [
    "import itertools\n",
    "import random\n",
    "import unittest\n",
    "from collections import Counter\n",
    "\n",
    "from humemai.memory import (\n",
    "    Memory,\n",
    "    ShortMemory,\n",
    "    EpisodicMemory,\n",
    "    SemanticMemory,\n",
    "    MemorySystems,\n",
    ")\n",
    "\n",
    "\n",
    "memory_list = [\n",
    "    [\"entity1\", \"relation1\", \"entity2\", 10],\n",
    "    [\"entity3\", \"relation2\", \"entity4\", 5.1],\n",
    "    [\"entity5\", \"relation3\", \"entity6\", 1],\n",
    "]\n",
    "decay_factor = 0.5\n",
    "memory = SemanticMemory(capacity=10, memories=memory_list, decay_factor=decay_factor)"
   ]
  },
  {
   "cell_type": "code",
   "execution_count": 2,
   "metadata": {},
   "outputs": [],
   "source": [
    "initial_memories = [\n",
    "    [\"Alice\", \"likes\", \"Bob\", 1],\n",
    "    [\"Bob\", \"likes\", \"Carol\", 2],\n",
    "    [\"Carol\", \"likes\", \"Dave\", 3],\n",
    "]\n",
    "memory = Memory(capacity=5, memories=initial_memories)\n",
    "episodic = EpisodicMemory(capacity=5, memories=initial_memories)\n",
    "short = ShortMemory(capacity=5, memories=initial_memories)\n",
    "semantic = SemanticMemory(capacity=5, memories=initial_memories, decay_factor=0.9)\n",
    "memory_systems = MemorySystems(episodic=episodic, semantic=semantic, short=short)"
   ]
  },
  {
   "cell_type": "code",
   "execution_count": 27,
   "metadata": {},
   "outputs": [
    {
     "data": {
      "text/plain": [
       "{   '_frozen': False,\n",
       "    'capacity': 5,\n",
       "    'decay_factor': 0.9,\n",
       "    'entries': [   [   'Alice',\n",
       "                       'likes',\n",
       "                       'Bob',\n",
       "                       1],\n",
       "                   [   'Bob',\n",
       "                       'likes',\n",
       "                       'Carol',\n",
       "                       1],\n",
       "                   [   'Carol',\n",
       "                       'likes',\n",
       "                       'Dave',\n",
       "                       1]],\n",
       "    'min_strength': 1,\n",
       "    'type': 'semantic'}"
      ]
     },
     "execution_count": 27,
     "metadata": {},
     "output_type": "execute_result"
    }
   ],
   "source": [
    "semantic"
   ]
  },
  {
   "cell_type": "code",
   "execution_count": 26,
   "metadata": {},
   "outputs": [],
   "source": [
    "semantic.decay()"
   ]
  }
 ],
 "metadata": {
  "kernelspec": {
   "display_name": "agent-room-env-v2-lstm",
   "language": "python",
   "name": "python3"
  },
  "language_info": {
   "codemirror_mode": {
    "name": "ipython",
    "version": 3
   },
   "file_extension": ".py",
   "mimetype": "text/x-python",
   "name": "python",
   "nbconvert_exporter": "python",
   "pygments_lexer": "ipython3",
   "version": "3.10.12"
  }
 },
 "nbformat": 4,
 "nbformat_minor": 2
}
