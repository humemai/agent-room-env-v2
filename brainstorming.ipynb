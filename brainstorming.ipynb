{
 "cells": [
  {
   "cell_type": "code",
   "execution_count": 1,
   "metadata": {},
   "outputs": [],
   "source": [
    "import numpy as np"
   ]
  },
  {
   "cell_type": "code",
   "execution_count": 24,
   "metadata": {},
   "outputs": [],
   "source": [
    "x = np.empty(2, dtype=object)\n",
    "x[0] = {\n",
    "    \"short\": [\"Foo\", \"atlocation\", \"desk\", 3],\n",
    "    \"episodic\": [\"Bar\", \"north\", \"laptop\", 5],\n",
    "}\n",
    "x[1] = {\n",
    "    \"short\": [\"lap\", \"south\", \"phone\", 2],\n",
    "    \"episodic\": [\"Foo\", \"atlocation\", \"desk\", 4],\n",
    "}"
   ]
  },
  {
   "cell_type": "code",
   "execution_count": 25,
   "metadata": {},
   "outputs": [
    {
     "data": {
      "text/plain": [
       "{'short': ['Foo', 'atlocation', 'desk', 3],\n",
       " 'episodic': ['Bar', 'north', 'laptop', 5]}"
      ]
     },
     "execution_count": 25,
     "metadata": {},
     "output_type": "execute_result"
    }
   ],
   "source": [
    "x[0]"
   ]
  },
  {
   "cell_type": "code",
   "execution_count": 26,
   "metadata": {},
   "outputs": [
    {
     "data": {
      "text/plain": [
       "{'short': ['lap', 'south', 'phone', 2],\n",
       " 'episodic': ['Foo', 'atlocation', 'desk', 4]}"
      ]
     },
     "execution_count": 26,
     "metadata": {},
     "output_type": "execute_result"
    }
   ],
   "source": [
    "x[1]"
   ]
  }
 ],
 "metadata": {
  "kernelspec": {
   "display_name": "agent-room-env-v2-lstm",
   "language": "python",
   "name": "python3"
  },
  "language_info": {
   "codemirror_mode": {
    "name": "ipython",
    "version": 3
   },
   "file_extension": ".py",
   "mimetype": "text/x-python",
   "name": "python",
   "nbconvert_exporter": "python",
   "pygments_lexer": "ipython3",
   "version": "3.10.12"
  }
 },
 "nbformat": 4,
 "nbformat_minor": 2
}
