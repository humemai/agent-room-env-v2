{
 "cells": [
  {
   "cell_type": "code",
   "execution_count": 12,
   "metadata": {},
   "outputs": [
    {
     "name": "stdout",
     "output_type": "stream",
     "text": [
      "dd\n"
     ]
    }
   ],
   "source": [
    "if \"dd\":\n",
    "    print(\"dd\")"
   ]
  },
  {
   "cell_type": "code",
   "execution_count": 11,
   "metadata": {},
   "outputs": [
    {
     "name": "stdout",
     "output_type": "stream",
     "text": [
      "{'self': <__main__.Foo object at 0x75e6b13ccbb0>, 'x': 42, '__class__': <class '__main__.Foo'>}\n"
     ]
    }
   ],
   "source": [
    "from copy import deepcopy\n",
    "\n",
    "\n",
    "class Bar:\n",
    "    def __init__(self):\n",
    "        pass\n",
    "\n",
    "class Baz(Bar):\n",
    "    def __init__(self):\n",
    "        pass\n",
    "\n",
    "\n",
    "class Foo(Baz):\n",
    "    def __init__(self, x=42):\n",
    "        super(Foo, self).__init__()\n",
    "        self.x = x\n",
    "        params = deepcopy(locals())\n",
    "        print(params)\n",
    "\n",
    "\n",
    "f = Foo()"
   ]
  }
 ],
 "metadata": {
  "kernelspec": {
   "display_name": "agent-room-env-v2-lstm",
   "language": "python",
   "name": "python3"
  },
  "language_info": {
   "codemirror_mode": {
    "name": "ipython",
    "version": 3
   },
   "file_extension": ".py",
   "mimetype": "text/x-python",
   "name": "python",
   "nbconvert_exporter": "python",
   "pygments_lexer": "ipython3",
   "version": "3.10.12"
  }
 },
 "nbformat": 4,
 "nbformat_minor": 2
}
