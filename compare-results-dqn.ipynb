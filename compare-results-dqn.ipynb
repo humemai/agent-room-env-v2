{
 "cells": [
  {
   "cell_type": "code",
   "execution_count": 9,
   "metadata": {},
   "outputs": [
    {
     "name": "stderr",
     "output_type": "stream",
     "text": [
      "/home/tk/.virtualenvs/humemai/lib/python3.10/site-packages/tqdm/auto.py:21: TqdmWarning: IProgress not found. Please update jupyter and ipywidgets. See https://ipywidgets.readthedocs.io/en/stable/user_install.html\n",
      "  from .autonotebook import tqdm as notebook_tqdm\n"
     ]
    },
    {
     "data": {
      "text/plain": [
       "206469"
      ]
     },
     "execution_count": 9,
     "metadata": {},
     "output_type": "execute_result"
    }
   ],
   "source": [
    "from humemai.utils import read_pickle\n",
    "\n",
    "agent = read_pickle(\n",
    "    \"./training-results/deterministic-objects/DQN/explore/l/100-question_interval=1/2024-04-07 14:08:54.319206/agent.pkl\"\n",
    ")\n",
    "# count the number of parameters\n",
    "num_parameters = sum(p.numel() for p in agent.dqn.parameters() if p.requires_grad)\n",
    "num_parameters\n"
   ]
  },
  {
   "cell_type": "code",
   "execution_count": 2,
   "metadata": {},
   "outputs": [
    {
     "name": "stdout",
     "output_type": "stream",
     "text": [
      "number of training results: 5\n"
     ]
    }
   ],
   "source": [
    "from glob import glob\n",
    "from humemai.utils import read_yaml\n",
    "import pandas as pd\n",
    "import numpy as np\n",
    "\n",
    "results_all = []\n",
    "for results_path in glob(\"./training-results/deterministic-objects/DQN/explore/l/100-question_interval=1/*/results.yaml\"):\n",
    "    train_path = results_path.replace(\"results.yaml\", \"train.yaml\")\n",
    "    train = read_yaml(train_path)\n",
    "    results = read_yaml(results_path)\n",
    "    results_all.append(\n",
    "        {\n",
    "            \"#_iterations\": train[\"num_iterations\"],\n",
    "            \"replay_size\": train[\"replay_buffer_size\"],\n",
    "            \"warm\": train[\"warm_start\"],\n",
    "            \"gamma\": train[\"gamma\"],\n",
    "            \"bs\": train[\"batch_size\"],\n",
    "            \"target_update\": train[\"target_update_interval\"],\n",
    "            \"epsilon_decay\": train[\"epsilon_decay_until\"],\n",
    "            # \"ddqn\": train[\"ddqn\"],\n",
    "            # \"dueling\": train[\"dueling_dqn\"],\n",
    "            \"test\": results[\"test_score\"][\"mean\"],\n",
    "            \"val\": max([foo[\"mean\"] for foo in results[\"validation_score\"]]),\n",
    "            # \"test_val_mean\": (\n",
    "            #     results[\"test_score\"][\"mean\"]\n",
    "            #     + max([foo[\"mean\"] for foo in results[\"validation_score\"]])\n",
    "            # )\n",
    "            # / 2,\n",
    "            \"path\": results_path.split(\"/\")[-2],\n",
    "        }\n",
    "    )\n",
    "\n",
    "df = pd.DataFrame(results_all)\n",
    "# df = df[\n",
    "#     # (df[\"gamma\"] == 0.9)\n",
    "#     # (df[\"ddqn\"] == True)\n",
    "#     # & (df[\"dueling\"] == False)\n",
    "#     # & (df[\"bs\"] == 64)\n",
    "#     # & (df[\"replay_size\"] == 500)\n",
    "#     # & (df[\"warm\"] == 250)\n",
    "#     # & (df[\"epsilon_decay\"] == 1000)\n",
    "# ]\n",
    "\n",
    "df_sorted = df.sort_values(by=\"val\", ascending=False)\n",
    "print(f\"number of training results: {len(df_sorted)}\")\n",
    "\n",
    "top_k = 10\n",
    "top = df_sorted[:top_k]\n",
    "bottom = df_sorted[-top_k:]"
   ]
  },
  {
   "cell_type": "code",
   "execution_count": 3,
   "metadata": {},
   "outputs": [
    {
     "data": {
      "text/html": [
       "<div>\n",
       "<style scoped>\n",
       "    .dataframe tbody tr th:only-of-type {\n",
       "        vertical-align: middle;\n",
       "    }\n",
       "\n",
       "    .dataframe tbody tr th {\n",
       "        vertical-align: top;\n",
       "    }\n",
       "\n",
       "    .dataframe thead th {\n",
       "        text-align: right;\n",
       "    }\n",
       "</style>\n",
       "<table border=\"1\" class=\"dataframe\">\n",
       "  <thead>\n",
       "    <tr style=\"text-align: right;\">\n",
       "      <th></th>\n",
       "      <th>#_iterations</th>\n",
       "      <th>replay_size</th>\n",
       "      <th>warm</th>\n",
       "      <th>gamma</th>\n",
       "      <th>bs</th>\n",
       "      <th>target_update</th>\n",
       "      <th>epsilon_decay</th>\n",
       "      <th>test</th>\n",
       "      <th>val</th>\n",
       "      <th>path</th>\n",
       "    </tr>\n",
       "  </thead>\n",
       "  <tbody>\n",
       "    <tr>\n",
       "      <th>0</th>\n",
       "      <td>10000</td>\n",
       "      <td>10000</td>\n",
       "      <td>1000</td>\n",
       "      <td>0.9</td>\n",
       "      <td>32</td>\n",
       "      <td>10</td>\n",
       "      <td>10000</td>\n",
       "      <td>599.8</td>\n",
       "      <td>577.4</td>\n",
       "      <td>2024-04-07 14:08:54.319206</td>\n",
       "    </tr>\n",
       "    <tr>\n",
       "      <th>4</th>\n",
       "      <td>10000</td>\n",
       "      <td>10000</td>\n",
       "      <td>1000</td>\n",
       "      <td>0.9</td>\n",
       "      <td>32</td>\n",
       "      <td>10</td>\n",
       "      <td>10000</td>\n",
       "      <td>562.3</td>\n",
       "      <td>558.5</td>\n",
       "      <td>2024-04-07 13:14:21.138388</td>\n",
       "    </tr>\n",
       "    <tr>\n",
       "      <th>2</th>\n",
       "      <td>10000</td>\n",
       "      <td>10000</td>\n",
       "      <td>1000</td>\n",
       "      <td>0.9</td>\n",
       "      <td>32</td>\n",
       "      <td>10</td>\n",
       "      <td>10000</td>\n",
       "      <td>557.3</td>\n",
       "      <td>550.3</td>\n",
       "      <td>2024-04-07 15:59:37.091826</td>\n",
       "    </tr>\n",
       "    <tr>\n",
       "      <th>3</th>\n",
       "      <td>10000</td>\n",
       "      <td>10000</td>\n",
       "      <td>1000</td>\n",
       "      <td>0.9</td>\n",
       "      <td>32</td>\n",
       "      <td>10</td>\n",
       "      <td>10000</td>\n",
       "      <td>441.2</td>\n",
       "      <td>456.2</td>\n",
       "      <td>2024-04-07 16:53:26.574465</td>\n",
       "    </tr>\n",
       "    <tr>\n",
       "      <th>1</th>\n",
       "      <td>10000</td>\n",
       "      <td>10000</td>\n",
       "      <td>1000</td>\n",
       "      <td>0.9</td>\n",
       "      <td>32</td>\n",
       "      <td>10</td>\n",
       "      <td>10000</td>\n",
       "      <td>379.0</td>\n",
       "      <td>403.3</td>\n",
       "      <td>2024-04-07 15:05:25.778120</td>\n",
       "    </tr>\n",
       "  </tbody>\n",
       "</table>\n",
       "</div>"
      ],
      "text/plain": [
       "   #_iterations  replay_size  warm  gamma  bs  target_update  epsilon_decay  \\\n",
       "0         10000        10000  1000    0.9  32             10          10000   \n",
       "4         10000        10000  1000    0.9  32             10          10000   \n",
       "2         10000        10000  1000    0.9  32             10          10000   \n",
       "3         10000        10000  1000    0.9  32             10          10000   \n",
       "1         10000        10000  1000    0.9  32             10          10000   \n",
       "\n",
       "    test    val                        path  \n",
       "0  599.8  577.4  2024-04-07 14:08:54.319206  \n",
       "4  562.3  558.5  2024-04-07 13:14:21.138388  \n",
       "2  557.3  550.3  2024-04-07 15:59:37.091826  \n",
       "3  441.2  456.2  2024-04-07 16:53:26.574465  \n",
       "1  379.0  403.3  2024-04-07 15:05:25.778120  "
      ]
     },
     "execution_count": 3,
     "metadata": {},
     "output_type": "execute_result"
    }
   ],
   "source": [
    "top"
   ]
  },
  {
   "cell_type": "code",
   "execution_count": 7,
   "metadata": {},
   "outputs": [
    {
     "data": {
      "text/plain": [
       "507.91999999999996"
      ]
     },
     "execution_count": 7,
     "metadata": {},
     "output_type": "execute_result"
    }
   ],
   "source": [
    "top.test.mean()"
   ]
  },
  {
   "cell_type": "code",
   "execution_count": 4,
   "metadata": {},
   "outputs": [
    {
     "name": "stdout",
     "output_type": "stream",
     "text": [
      "replay_size: 10000.0\n",
      "warm: 1000.0\n",
      "gamma: 0.9\n",
      "bs: 32.0\n",
      "target_update: 20.0\n",
      "epsilon_decay: 10000.0\n",
      "test: 450.93333333333334\n",
      "val: 474.9666666666667\n",
      "\n",
      "replay_size: 10000.0\n",
      "warm: 1000.0\n",
      "gamma: 0.9000000000000001\n",
      "bs: 32.0\n",
      "target_update: 27.142857142857142\n",
      "epsilon_decay: 10000.0\n",
      "test: 436.00000000000006\n",
      "val: 446.72857142857146\n",
      "\n",
      "replay_size: 10000.0\n",
      "warm: 1000.0\n",
      "gamma: 0.9\n",
      "bs: 32.0\n",
      "target_update: 30.0\n",
      "epsilon_decay: 10000.0\n",
      "test: 416.2333333333333\n",
      "val: 418.1000000000001\n"
     ]
    }
   ],
   "source": [
    "print(f\"replay_size: {top.replay_size.mean()}\")\n",
    "print(f\"warm: {top.warm.mean()}\")\n",
    "print(f\"gamma: {top.gamma.mean()}\")\n",
    "print(f\"bs: {top.bs.mean()}\")\n",
    "print(f\"target_update: {top.target_update.mean()}\")\n",
    "print(f\"epsilon_decay: {top.epsilon_decay.mean()}\")\n",
    "# print(f\"ddqn: {top.ddqn.mean()}\")\n",
    "# print(f\"dueling: {top.dueling.mean()}\")\n",
    "print(f\"test: {top.test.mean()}\")\n",
    "print(f\"val: {top.val.mean()}\")\n",
    "\n",
    "print()\n",
    "print(f\"replay_size: {df_sorted.replay_size.mean()}\")\n",
    "print(f\"warm: {df_sorted.warm.mean()}\")\n",
    "print(f\"gamma: {df_sorted.gamma.mean()}\")\n",
    "print(f\"bs: {df_sorted.bs.mean()}\")\n",
    "print(f\"target_update: {df_sorted.target_update.mean()}\")\n",
    "print(f\"epsilon_decay: {df_sorted.epsilon_decay.mean()}\")\n",
    "# print(f\"ddqn: {df_sorted.ddqn.mean()}\")\n",
    "# print(f\"dueling: {df_sorted.dueling.mean()}\")\n",
    "print(f\"test: {df_sorted.test.mean()}\")\n",
    "print(f\"val: {df_sorted.val.mean()}\")\n",
    "\n",
    "print()\n",
    "print(f\"replay_size: {bottom.replay_size.mean()}\")\n",
    "print(f\"warm: {bottom.warm.mean()}\")\n",
    "print(f\"gamma: {bottom.gamma.mean()}\")\n",
    "print(f\"bs: {bottom.bs.mean()}\")\n",
    "print(f\"target_update: {bottom.target_update.mean()}\")\n",
    "print(f\"epsilon_decay: {bottom.epsilon_decay.mean()}\")\n",
    "# print(f\"ddqn: {bottom.ddqn.mean()}\")\n",
    "# print(f\"dueling: {bottom.dueling.mean()}\")\n",
    "print(f\"test: {bottom.test.mean()}\")\n",
    "print(f\"val: {bottom.val.mean()}\")"
   ]
  }
 ],
 "metadata": {
  "kernelspec": {
   "display_name": "human-memory",
   "language": "python",
   "name": "python3"
  },
  "language_info": {
   "codemirror_mode": {
    "name": "ipython",
    "version": 3
   },
   "file_extension": ".py",
   "mimetype": "text/x-python",
   "name": "python",
   "nbconvert_exporter": "python",
   "pygments_lexer": "ipython3",
   "version": "3.10.12"
  },
  "orig_nbformat": 4
 },
 "nbformat": 4,
 "nbformat_minor": 2
}
